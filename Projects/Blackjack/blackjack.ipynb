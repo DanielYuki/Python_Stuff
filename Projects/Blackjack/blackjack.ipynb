{
 "cells": [
  {
   "cell_type": "code",
   "execution_count": null,
   "metadata": {},
   "outputs": [],
   "source": [
    "import random"
   ]
  },
  {
   "cell_type": "code",
   "execution_count": null,
   "metadata": {},
   "outputs": [],
   "source": [
    "def createDeck():\n",
    "    deck = []\n",
    "    suits = [\"Spades\", \"Hearts\", \"Diamonds\", \"Clubs\"]\n",
    "    ranks = [\"Ace\", 2, 3, 4, 5, 6, 7, 8, 9, 10,\"Jack\", \"Queen\", \"King\"]\n",
    "    \n",
    "    for suit in suits:\n",
    "        for rank in ranks:\n",
    "            deck.append({\"rank\": rank, \"suit\": suit})\n",
    "\n",
    "\n",
    "createDeck()"
   ]
  },
  {
   "cell_type": "code",
   "execution_count": null,
   "metadata": {},
   "outputs": [],
   "source": [
    "class Player:\n",
    "    def ___init___(self, p, hand):\n",
    "        self.p = p\n",
    "        self.hand = hand\n",
    "\n",
    "    def hit(self):\n",
    "        self.hand.append(deck.pop())\n",
    "\n",
    "    def getHandValue(self):\n",
    "        sum = 0\n",
    "        for card in self.card:\n",
    "            sum += getCardValue(card)\n",
    "        return sum\n",
    "    \n",
    "    def showHand(self):\n",
    "        for card in self.hand:\n",
    "            print(card[\"rank\"] + \" of \" + card[\"suit\"])  "
   ]
  },
  {
   "cell_type": "code",
   "execution_count": null,
   "metadata": {},
   "outputs": [],
   "source": [
    "hand = []"
   ]
  },
  {
   "cell_type": "code",
   "execution_count": null,
   "metadata": {},
   "outputs": [],
   "source": [
    "def shuffleDeck(deck):\n",
    "    random.shuffle(deck)\n",
    "\n",
    "\n",
    "shuffleDeck(deck)"
   ]
  },
  {
   "cell_type": "code",
   "execution_count": null,
   "metadata": {},
   "outputs": [],
   "source": [
    "def getCardValue(card):\n",
    "    if card[\"rank\"] == \"Ace\":\n",
    "        return 11\n",
    "    elif card[\"rank\"] in [\"Jack\", \"Queen\", \"King\"]:\n",
    "        return 10\n",
    "    else:\n",
    "        return card[\"rank\"]"
   ]
  },
  {
   "cell_type": "code",
   "execution_count": null,
   "metadata": {},
   "outputs": [],
   "source": [
    "def showDeck():\n",
    "    for card in deck:\n",
    "        print(card[\"rank\"] + \" of \" + card[\"suit\"])\n",
    "\n",
    "\n",
    "showDeck()"
   ]
  }
 ],
 "metadata": {
  "kernelspec": {
   "display_name": "Python 3",
   "language": "python",
   "name": "python3"
  },
  "language_info": {
   "codemirror_mode": {
    "name": "ipython",
    "version": 3
   },
   "file_extension": ".py",
   "mimetype": "text/x-python",
   "name": "python",
   "nbconvert_exporter": "python",
   "pygments_lexer": "ipython3",
   "version": "3.10.9"
  },
  "orig_nbformat": 4
 },
 "nbformat": 4,
 "nbformat_minor": 2
}
